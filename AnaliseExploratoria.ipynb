{
 "cells": [
  {
   "cell_type": "code",
   "execution_count": 1,
   "id": "aba473b9",
   "metadata": {},
   "outputs": [],
   "source": [
    "import pandas as pd\n",
    "import seaborn as srn\n",
    "import statistics as sts"
   ]
  },
  {
   "cell_type": "code",
   "execution_count": 2,
   "id": "285f86c6",
   "metadata": {},
   "outputs": [
    {
     "data": {
      "text/html": [
       "<div>\n",
       "<style scoped>\n",
       "    .dataframe tbody tr th:only-of-type {\n",
       "        vertical-align: middle;\n",
       "    }\n",
       "\n",
       "    .dataframe tbody tr th {\n",
       "        vertical-align: top;\n",
       "    }\n",
       "\n",
       "    .dataframe thead th {\n",
       "        text-align: right;\n",
       "    }\n",
       "</style>\n",
       "<table border=\"1\" class=\"dataframe\">\n",
       "  <thead>\n",
       "    <tr style=\"text-align: right;\">\n",
       "      <th></th>\n",
       "      <th>Unnamed: 0</th>\n",
       "      <th>Date</th>\n",
       "      <th>StockCode</th>\n",
       "      <th>StockName</th>\n",
       "      <th>Value</th>\n",
       "      <th>ValueFormatted</th>\n",
       "      <th>ChangeDay</th>\n",
       "      <th>ChangeDayFormatted</th>\n",
       "      <th>Change12M</th>\n",
       "      <th>Change12MFormatted</th>\n",
       "      <th>Volume</th>\n",
       "      <th>VolumeFormatted</th>\n",
       "    </tr>\n",
       "  </thead>\n",
       "  <tbody>\n",
       "    <tr>\n",
       "      <th>0</th>\n",
       "      <td>0</td>\n",
       "      <td>2025-07-21T17:07:00</td>\n",
       "      <td>VALE3</td>\n",
       "      <td>VALE ON NM</td>\n",
       "      <td>56.05</td>\n",
       "      <td>56,05</td>\n",
       "      <td>2.73094</td>\n",
       "      <td>2,73</td>\n",
       "      <td>-1.03608</td>\n",
       "      <td>-1,03</td>\n",
       "      <td>2.133133e+09</td>\n",
       "      <td>2,13 B</td>\n",
       "    </tr>\n",
       "    <tr>\n",
       "      <th>1</th>\n",
       "      <td>1</td>\n",
       "      <td>2025-07-21T17:07:00</td>\n",
       "      <td>BBAS3</td>\n",
       "      <td>BRASIL ON NM</td>\n",
       "      <td>19.86</td>\n",
       "      <td>19,86</td>\n",
       "      <td>-1.97433</td>\n",
       "      <td>-1,97</td>\n",
       "      <td>-20.79287</td>\n",
       "      <td>-20,79</td>\n",
       "      <td>7.784567e+08</td>\n",
       "      <td>778,46 M</td>\n",
       "    </tr>\n",
       "    <tr>\n",
       "      <th>2</th>\n",
       "      <td>2</td>\n",
       "      <td>2025-07-21T17:07:00</td>\n",
       "      <td>PETR4</td>\n",
       "      <td>PETROBRAS PN N2</td>\n",
       "      <td>31.05</td>\n",
       "      <td>31,05</td>\n",
       "      <td>0.19361</td>\n",
       "      <td>0,19</td>\n",
       "      <td>-6.77803</td>\n",
       "      <td>-6,77</td>\n",
       "      <td>4.379988e+08</td>\n",
       "      <td>438 M</td>\n",
       "    </tr>\n",
       "    <tr>\n",
       "      <th>3</th>\n",
       "      <td>3</td>\n",
       "      <td>2025-07-21T17:07:00</td>\n",
       "      <td>BBDC4</td>\n",
       "      <td>BRADESCO PN N1</td>\n",
       "      <td>15.68</td>\n",
       "      <td>15,68</td>\n",
       "      <td>0.06382</td>\n",
       "      <td>0,06</td>\n",
       "      <td>36.20452</td>\n",
       "      <td>36,20</td>\n",
       "      <td>3.758859e+08</td>\n",
       "      <td>375,89 M</td>\n",
       "    </tr>\n",
       "    <tr>\n",
       "      <th>4</th>\n",
       "      <td>4</td>\n",
       "      <td>2025-07-21T17:07:00</td>\n",
       "      <td>EMBR3</td>\n",
       "      <td>EMBRAER ON NM</td>\n",
       "      <td>68.12</td>\n",
       "      <td>68,12</td>\n",
       "      <td>-0.26354</td>\n",
       "      <td>-0,26</td>\n",
       "      <td>64.23441</td>\n",
       "      <td>64,23</td>\n",
       "      <td>3.426963e+08</td>\n",
       "      <td>342,7 M</td>\n",
       "    </tr>\n",
       "  </tbody>\n",
       "</table>\n",
       "</div>"
      ],
      "text/plain": [
       "   Unnamed: 0                 Date StockCode        StockName  Value  \\\n",
       "0           0  2025-07-21T17:07:00     VALE3       VALE ON NM  56.05   \n",
       "1           1  2025-07-21T17:07:00     BBAS3     BRASIL ON NM  19.86   \n",
       "2           2  2025-07-21T17:07:00     PETR4  PETROBRAS PN N2  31.05   \n",
       "3           3  2025-07-21T17:07:00     BBDC4   BRADESCO PN N1  15.68   \n",
       "4           4  2025-07-21T17:07:00     EMBR3    EMBRAER ON NM  68.12   \n",
       "\n",
       "  ValueFormatted  ChangeDay ChangeDayFormatted  Change12M Change12MFormatted  \\\n",
       "0          56,05    2.73094               2,73   -1.03608              -1,03   \n",
       "1          19,86   -1.97433              -1,97  -20.79287             -20,79   \n",
       "2          31,05    0.19361               0,19   -6.77803              -6,77   \n",
       "3          15,68    0.06382               0,06   36.20452              36,20   \n",
       "4          68,12   -0.26354              -0,26   64.23441              64,23   \n",
       "\n",
       "         Volume VolumeFormatted  \n",
       "0  2.133133e+09          2,13 B  \n",
       "1  7.784567e+08        778,46 M  \n",
       "2  4.379988e+08           438 M  \n",
       "3  3.758859e+08        375,89 M  \n",
       "4  3.426963e+08         342,7 M  "
      ]
     },
     "execution_count": 2,
     "metadata": {},
     "output_type": "execute_result"
    }
   ],
   "source": [
    "df = pd.read_csv(\"Actions.csv\")\n",
    "df.head()"
   ]
  },
  {
   "cell_type": "code",
   "execution_count": 3,
   "id": "9575400b",
   "metadata": {},
   "outputs": [
    {
     "data": {
      "text/plain": [
       "Unnamed: 0            0\n",
       "Date                  0\n",
       "StockCode             0\n",
       "StockName             0\n",
       "Value                 0\n",
       "ValueFormatted        0\n",
       "ChangeDay             0\n",
       "ChangeDayFormatted    0\n",
       "Change12M             1\n",
       "Change12MFormatted    1\n",
       "Volume                0\n",
       "VolumeFormatted       0\n",
       "dtype: int64"
      ]
     },
     "execution_count": 3,
     "metadata": {},
     "output_type": "execute_result"
    }
   ],
   "source": [
    "df.isna().sum()"
   ]
  },
  {
   "cell_type": "code",
   "execution_count": 8,
   "id": "c6b91402",
   "metadata": {},
   "outputs": [
    {
     "data": {
      "text/plain": [
       "np.int64(0)"
      ]
     },
     "execution_count": 8,
     "metadata": {},
     "output_type": "execute_result"
    }
   ],
   "source": [
    "df.duplicated([\"StockCode\"]).sum()"
   ]
  },
  {
   "cell_type": "code",
   "execution_count": 6,
   "id": "3647f3cd",
   "metadata": {},
   "outputs": [
    {
     "data": {
      "text/plain": [
       "(352, 12)"
      ]
     },
     "execution_count": 6,
     "metadata": {},
     "output_type": "execute_result"
    }
   ],
   "source": [
    "df.shape"
   ]
  },
  {
   "cell_type": "code",
   "execution_count": null,
   "id": "e526a6a1",
   "metadata": {},
   "outputs": [],
   "source": []
  }
 ],
 "metadata": {
  "kernelspec": {
   "display_name": "base",
   "language": "python",
   "name": "python3"
  },
  "language_info": {
   "codemirror_mode": {
    "name": "ipython",
    "version": 3
   },
   "file_extension": ".py",
   "mimetype": "text/x-python",
   "name": "python",
   "nbconvert_exporter": "python",
   "pygments_lexer": "ipython3",
   "version": "3.13.5"
  }
 },
 "nbformat": 4,
 "nbformat_minor": 5
}
