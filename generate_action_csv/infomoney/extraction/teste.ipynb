{
 "cells": [
  {
   "cell_type": "code",
   "execution_count": 2,
   "id": "87cc11e4",
   "metadata": {},
   "outputs": [],
   "source": [
    "import pandas as pd"
   ]
  },
  {
   "cell_type": "code",
   "execution_count": 4,
   "id": "d8d79388",
   "metadata": {},
   "outputs": [
    {
     "data": {
      "text/html": [
       "<div>\n",
       "<style scoped>\n",
       "    .dataframe tbody tr th:only-of-type {\n",
       "        vertical-align: middle;\n",
       "    }\n",
       "\n",
       "    .dataframe tbody tr th {\n",
       "        vertical-align: top;\n",
       "    }\n",
       "\n",
       "    .dataframe thead th {\n",
       "        text-align: right;\n",
       "    }\n",
       "</style>\n",
       "<table border=\"1\" class=\"dataframe\">\n",
       "  <thead>\n",
       "    <tr style=\"text-align: right;\">\n",
       "      <th></th>\n",
       "      <th>Unnamed: 0</th>\n",
       "      <th>Receita Líquida</th>\n",
       "      <th>Lucro Líquido (LL)</th>\n",
       "      <th>Margem Líquida</th>\n",
       "      <th>Ebitda</th>\n",
       "      <th>Margem Ebitda</th>\n",
       "      <th>Ativo Total</th>\n",
       "      <th>Dívida Bruta</th>\n",
       "      <th>Dívida Líquida</th>\n",
       "      <th>Patrimônio Líquido (PL)</th>\n",
       "      <th>Índice de preço sobre lucro (P/L)</th>\n",
       "      <th>Retorno sobre o PL (ROE)</th>\n",
       "      <th>Retorno sobre o Capital (ROIC)</th>\n",
       "      <th>Code action</th>\n",
       "    </tr>\n",
       "  </thead>\n",
       "  <tbody>\n",
       "    <tr>\n",
       "      <th>0</th>\n",
       "      <td>0</td>\n",
       "      <td>R$ 209,59 B</td>\n",
       "      <td>R$ 27,87 B</td>\n",
       "      <td>13.29%</td>\n",
       "      <td>R$ 63,8 B</td>\n",
       "      <td>30.44%</td>\n",
       "      <td>R$ 493,22 B</td>\n",
       "      <td>R$ 97,38 B</td>\n",
       "      <td>R$ 66,29 B</td>\n",
       "      <td>R$ 220,96 B</td>\n",
       "      <td>8,28</td>\n",
       "      <td>+12.61%</td>\n",
       "      <td>+9.61%</td>\n",
       "      <td>VALE3</td>\n",
       "    </tr>\n",
       "    <tr>\n",
       "      <th>1</th>\n",
       "      <td>1</td>\n",
       "      <td>R$ 493,12 B</td>\n",
       "      <td>R$ 77,81 B</td>\n",
       "      <td>15.78%</td>\n",
       "      <td>R$ 208,35 B</td>\n",
       "      <td>42.25%</td>\n",
       "      <td>R$ 1174,89 B</td>\n",
       "      <td>R$ 371,43 B</td>\n",
       "      <td>R$ 319,58 B</td>\n",
       "      <td>R$ 401,78 B</td>\n",
       "      <td>5,06</td>\n",
       "      <td>+19.36%</td>\n",
       "      <td>+11.47%</td>\n",
       "      <td>PETR4</td>\n",
       "    </tr>\n",
       "    <tr>\n",
       "      <th>2</th>\n",
       "      <td>2</td>\n",
       "      <td>R$ 278,57 B</td>\n",
       "      <td>R$ 24,66 B</td>\n",
       "      <td>8.85%</td>\n",
       "      <td>R$ 16,68 B</td>\n",
       "      <td>5.99%</td>\n",
       "      <td>R$ 2427,05 B</td>\n",
       "      <td>NaN</td>\n",
       "      <td>R$ -71,51 B</td>\n",
       "      <td>R$ 187,01 B</td>\n",
       "      <td>4,46</td>\n",
       "      <td>+13.19%</td>\n",
       "      <td>+4.01%</td>\n",
       "      <td>BBAS3</td>\n",
       "    </tr>\n",
       "    <tr>\n",
       "      <th>3</th>\n",
       "      <td>3</td>\n",
       "      <td>R$ 40,22 B</td>\n",
       "      <td>R$ 11,16 B</td>\n",
       "      <td>27.75%</td>\n",
       "      <td>R$ 20,01 B</td>\n",
       "      <td>49.76%</td>\n",
       "      <td>R$ 88,71 B</td>\n",
       "      <td>R$ 31,28 B</td>\n",
       "      <td>R$ 23,35 B</td>\n",
       "      <td>R$ 40,44 B</td>\n",
       "      <td>7,33</td>\n",
       "      <td>+27.6%</td>\n",
       "      <td>+16.35%</td>\n",
       "      <td>SBSP3</td>\n",
       "    </tr>\n",
       "    <tr>\n",
       "      <th>4</th>\n",
       "      <td>4</td>\n",
       "      <td>R$ 10,78 B</td>\n",
       "      <td>R$ 4,81 B</td>\n",
       "      <td>44.66%</td>\n",
       "      <td>R$ 6,75 B</td>\n",
       "      <td>62.61%</td>\n",
       "      <td>R$ 47,03 B</td>\n",
       "      <td>R$ 14,53 B</td>\n",
       "      <td>R$ -83,34 M</td>\n",
       "      <td>R$ 19,75 B</td>\n",
       "      <td>13,70</td>\n",
       "      <td>+24.38%</td>\n",
       "      <td>+12.22%</td>\n",
       "      <td>B3SA3</td>\n",
       "    </tr>\n",
       "  </tbody>\n",
       "</table>\n",
       "</div>"
      ],
      "text/plain": [
       "   Unnamed: 0 Receita Líquida Lucro Líquido (LL) Margem Líquida       Ebitda  \\\n",
       "0           0     R$ 209,59 B         R$ 27,87 B         13.29%    R$ 63,8 B   \n",
       "1           1     R$ 493,12 B         R$ 77,81 B         15.78%  R$ 208,35 B   \n",
       "2           2     R$ 278,57 B         R$ 24,66 B          8.85%   R$ 16,68 B   \n",
       "3           3      R$ 40,22 B         R$ 11,16 B         27.75%   R$ 20,01 B   \n",
       "4           4      R$ 10,78 B          R$ 4,81 B         44.66%    R$ 6,75 B   \n",
       "\n",
       "  Margem Ebitda   Ativo Total Dívida Bruta Dívida Líquida  \\\n",
       "0        30.44%   R$ 493,22 B   R$ 97,38 B     R$ 66,29 B   \n",
       "1        42.25%  R$ 1174,89 B  R$ 371,43 B    R$ 319,58 B   \n",
       "2         5.99%  R$ 2427,05 B          NaN    R$ -71,51 B   \n",
       "3        49.76%    R$ 88,71 B   R$ 31,28 B     R$ 23,35 B   \n",
       "4        62.61%    R$ 47,03 B   R$ 14,53 B    R$ -83,34 M   \n",
       "\n",
       "  Patrimônio Líquido (PL) Índice de preço sobre lucro (P/L)  \\\n",
       "0             R$ 220,96 B                              8,28   \n",
       "1             R$ 401,78 B                              5,06   \n",
       "2             R$ 187,01 B                              4,46   \n",
       "3              R$ 40,44 B                              7,33   \n",
       "4              R$ 19,75 B                             13,70   \n",
       "\n",
       "  Retorno sobre o PL (ROE) Retorno sobre o Capital (ROIC) Code action  \n",
       "0                  +12.61%                         +9.61%       VALE3  \n",
       "1                  +19.36%                        +11.47%       PETR4  \n",
       "2                  +13.19%                         +4.01%       BBAS3  \n",
       "3                   +27.6%                        +16.35%       SBSP3  \n",
       "4                  +24.38%                        +12.22%       B3SA3  "
      ]
     },
     "execution_count": 4,
     "metadata": {},
     "output_type": "execute_result"
    }
   ],
   "source": [
    "df = pd.read_csv(\"actions_indicators.csv\")\n",
    "df.head()"
   ]
  },
  {
   "cell_type": "code",
   "execution_count": 5,
   "id": "2af342e4",
   "metadata": {},
   "outputs": [
    {
     "data": {
      "text/plain": [
       "(288, 14)"
      ]
     },
     "execution_count": 5,
     "metadata": {},
     "output_type": "execute_result"
    }
   ],
   "source": [
    "df.shape"
   ]
  },
  {
   "cell_type": "code",
   "execution_count": 7,
   "id": "4f5549aa",
   "metadata": {},
   "outputs": [
    {
     "data": {
      "text/plain": [
       "Unnamed: 0                            0\n",
       "Receita Líquida                      40\n",
       "Lucro Líquido (LL)                   34\n",
       "Margem Líquida                       40\n",
       "Ebitda                               36\n",
       "Margem Ebitda                        42\n",
       "Ativo Total                          34\n",
       "Dívida Bruta                         70\n",
       "Dívida Líquida                       34\n",
       "Patrimônio Líquido (PL)              34\n",
       "Índice de preço sobre lucro (P/L)    37\n",
       "Retorno sobre o PL (ROE)             34\n",
       "Retorno sobre o Capital (ROIC)       34\n",
       "Code action                          15\n",
       "dtype: int64"
      ]
     },
     "execution_count": 7,
     "metadata": {},
     "output_type": "execute_result"
    }
   ],
   "source": [
    "df.isna().sum()"
   ]
  },
  {
   "cell_type": "code",
   "execution_count": null,
   "id": "de93122b",
   "metadata": {},
   "outputs": [],
   "source": []
  }
 ],
 "metadata": {
  "kernelspec": {
   "display_name": "base",
   "language": "python",
   "name": "python3"
  },
  "language_info": {
   "codemirror_mode": {
    "name": "ipython",
    "version": 3
   },
   "file_extension": ".py",
   "mimetype": "text/x-python",
   "name": "python",
   "nbconvert_exporter": "python",
   "pygments_lexer": "ipython3",
   "version": "3.13.5"
  }
 },
 "nbformat": 4,
 "nbformat_minor": 5
}
